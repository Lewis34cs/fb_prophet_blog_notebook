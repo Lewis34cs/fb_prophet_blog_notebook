{
  "nbformat": 4,
  "nbformat_minor": 0,
  "metadata": {
    "colab": {
      "name": "blog_prophet_notebook",
      "provenance": [],
      "toc_visible": true,
      "authorship_tag": "ABX9TyOor5qvQ/G0QwHDE6xH5VJd",
      "include_colab_link": true
    },
    "kernelspec": {
      "name": "python3",
      "display_name": "Python 3"
    },
    "language_info": {
      "name": "python"
    }
  },
  "cells": [
    {
      "cell_type": "markdown",
      "metadata": {
        "id": "view-in-github",
        "colab_type": "text"
      },
      "source": [
        "<a href=\"https://colab.research.google.com/github/Lewis34cs/fb_prophet_blog_notebook/blob/main/blog_prophet_notebook.ipynb\" target=\"_parent\"><img src=\"https://colab.research.google.com/assets/colab-badge.svg\" alt=\"Open In Colab\"/></a>"
      ]
    },
    {
      "cell_type": "code",
      "metadata": {
        "colab": {
          "base_uri": "https://localhost:8080/"
        },
        "id": "l0yflUgPuGaa",
        "outputId": "5a269b09-c051-4112-f41a-4875124f0fee"
      },
      "source": [
        "# Mounting Google Drive\n",
        "from google.colab import drive\n",
        "drive.mount('/content/drive', force_remount=True)"
      ],
      "execution_count": 1,
      "outputs": [
        {
          "output_type": "stream",
          "text": [
            "Mounted at /content/drive\n"
          ],
          "name": "stdout"
        }
      ]
    },
    {
      "cell_type": "code",
      "metadata": {
        "id": "fIQHDIrq27qs"
      },
      "source": [
        "#Importing necessary libraries\n",
        "import pandas as pd\n",
        "from fbprophet import Prophet"
      ],
      "execution_count": 13,
      "outputs": []
    },
    {
      "cell_type": "markdown",
      "metadata": {
        "id": "ZDefhG7h0VUF"
      },
      "source": [
        "This dataset was retrieved from FRED and then uploaded into my Google Drive.\n",
        "\n",
        "Link to the original dataset can be found [`here`](https://fred.stlouisfed.org/series/PCU481111481111)\n",
        "\n",
        "\n",
        "You can also view and download the csv file on my [`Github page`](https://github.com/Lewis34cs/fb_prophet_blog_notebook)"
      ]
    },
    {
      "cell_type": "code",
      "metadata": {
        "id": "IFBwNi2et1_p"
      },
      "source": [
        "# Loading in dataset\n",
        "df = pd.read_csv('/content/drive/MyDrive/gdrive/datasets/air_passenger.csv')"
      ],
      "execution_count": 14,
      "outputs": []
    },
    {
      "cell_type": "markdown",
      "metadata": {
        "id": "qIIuzBh_TL6U"
      },
      "source": [
        "The 'DATE' column is in a monthly start format"
      ]
    },
    {
      "cell_type": "code",
      "metadata": {
        "colab": {
          "base_uri": "https://localhost:8080/",
          "height": 432
        },
        "id": "o5k7GAcQuZGh",
        "outputId": "ae572fc9-3995-48b0-b5e5-a502659cfdc5"
      },
      "source": [
        "df.head(13)"
      ],
      "execution_count": 15,
      "outputs": [
        {
          "output_type": "execute_result",
          "data": {
            "text/html": [
              "<div>\n",
              "<style scoped>\n",
              "    .dataframe tbody tr th:only-of-type {\n",
              "        vertical-align: middle;\n",
              "    }\n",
              "\n",
              "    .dataframe tbody tr th {\n",
              "        vertical-align: top;\n",
              "    }\n",
              "\n",
              "    .dataframe thead th {\n",
              "        text-align: right;\n",
              "    }\n",
              "</style>\n",
              "<table border=\"1\" class=\"dataframe\">\n",
              "  <thead>\n",
              "    <tr style=\"text-align: right;\">\n",
              "      <th></th>\n",
              "      <th>DATE</th>\n",
              "      <th>PCU481111481111</th>\n",
              "    </tr>\n",
              "  </thead>\n",
              "  <tbody>\n",
              "    <tr>\n",
              "      <th>0</th>\n",
              "      <td>1989-12-01</td>\n",
              "      <td>100.0</td>\n",
              "    </tr>\n",
              "    <tr>\n",
              "      <th>1</th>\n",
              "      <td>1990-01-01</td>\n",
              "      <td>101.0</td>\n",
              "    </tr>\n",
              "    <tr>\n",
              "      <th>2</th>\n",
              "      <td>1990-02-01</td>\n",
              "      <td>104.5</td>\n",
              "    </tr>\n",
              "    <tr>\n",
              "      <th>3</th>\n",
              "      <td>1990-03-01</td>\n",
              "      <td>106.9</td>\n",
              "    </tr>\n",
              "    <tr>\n",
              "      <th>4</th>\n",
              "      <td>1990-04-01</td>\n",
              "      <td>106.5</td>\n",
              "    </tr>\n",
              "    <tr>\n",
              "      <th>5</th>\n",
              "      <td>1990-05-01</td>\n",
              "      <td>107.0</td>\n",
              "    </tr>\n",
              "    <tr>\n",
              "      <th>6</th>\n",
              "      <td>1990-06-01</td>\n",
              "      <td>106.6</td>\n",
              "    </tr>\n",
              "    <tr>\n",
              "      <th>7</th>\n",
              "      <td>1990-07-01</td>\n",
              "      <td>109.7</td>\n",
              "    </tr>\n",
              "    <tr>\n",
              "      <th>8</th>\n",
              "      <td>1990-08-01</td>\n",
              "      <td>109.8</td>\n",
              "    </tr>\n",
              "    <tr>\n",
              "      <th>9</th>\n",
              "      <td>1990-09-01</td>\n",
              "      <td>112.5</td>\n",
              "    </tr>\n",
              "    <tr>\n",
              "      <th>10</th>\n",
              "      <td>1990-10-01</td>\n",
              "      <td>117.2</td>\n",
              "    </tr>\n",
              "    <tr>\n",
              "      <th>11</th>\n",
              "      <td>1990-11-01</td>\n",
              "      <td>122.5</td>\n",
              "    </tr>\n",
              "    <tr>\n",
              "      <th>12</th>\n",
              "      <td>1990-12-01</td>\n",
              "      <td>123.2</td>\n",
              "    </tr>\n",
              "  </tbody>\n",
              "</table>\n",
              "</div>"
            ],
            "text/plain": [
              "          DATE  PCU481111481111\n",
              "0   1989-12-01            100.0\n",
              "1   1990-01-01            101.0\n",
              "2   1990-02-01            104.5\n",
              "3   1990-03-01            106.9\n",
              "4   1990-04-01            106.5\n",
              "5   1990-05-01            107.0\n",
              "6   1990-06-01            106.6\n",
              "7   1990-07-01            109.7\n",
              "8   1990-08-01            109.8\n",
              "9   1990-09-01            112.5\n",
              "10  1990-10-01            117.2\n",
              "11  1990-11-01            122.5\n",
              "12  1990-12-01            123.2"
            ]
          },
          "metadata": {
            "tags": []
          },
          "execution_count": 15
        }
      ]
    },
    {
      "cell_type": "code",
      "metadata": {
        "colab": {
          "base_uri": "https://localhost:8080/",
          "height": 195
        },
        "id": "abWh1N662lEL",
        "outputId": "25659e2a-d7ca-479a-d6f8-ad545bb1a7a1"
      },
      "source": [
        "df.tail()"
      ],
      "execution_count": 16,
      "outputs": [
        {
          "output_type": "execute_result",
          "data": {
            "text/html": [
              "<div>\n",
              "<style scoped>\n",
              "    .dataframe tbody tr th:only-of-type {\n",
              "        vertical-align: middle;\n",
              "    }\n",
              "\n",
              "    .dataframe tbody tr th {\n",
              "        vertical-align: top;\n",
              "    }\n",
              "\n",
              "    .dataframe thead th {\n",
              "        text-align: right;\n",
              "    }\n",
              "</style>\n",
              "<table border=\"1\" class=\"dataframe\">\n",
              "  <thead>\n",
              "    <tr style=\"text-align: right;\">\n",
              "      <th></th>\n",
              "      <th>DATE</th>\n",
              "      <th>PCU481111481111</th>\n",
              "    </tr>\n",
              "  </thead>\n",
              "  <tbody>\n",
              "    <tr>\n",
              "      <th>370</th>\n",
              "      <td>2020-10-01</td>\n",
              "      <td>250.5</td>\n",
              "    </tr>\n",
              "    <tr>\n",
              "      <th>371</th>\n",
              "      <td>2020-11-01</td>\n",
              "      <td>230.5</td>\n",
              "    </tr>\n",
              "    <tr>\n",
              "      <th>372</th>\n",
              "      <td>2020-12-01</td>\n",
              "      <td>224.3</td>\n",
              "    </tr>\n",
              "    <tr>\n",
              "      <th>373</th>\n",
              "      <td>2021-01-01</td>\n",
              "      <td>223.9</td>\n",
              "    </tr>\n",
              "    <tr>\n",
              "      <th>374</th>\n",
              "      <td>2021-02-01</td>\n",
              "      <td>227.7</td>\n",
              "    </tr>\n",
              "  </tbody>\n",
              "</table>\n",
              "</div>"
            ],
            "text/plain": [
              "           DATE  PCU481111481111\n",
              "370  2020-10-01            250.5\n",
              "371  2020-11-01            230.5\n",
              "372  2020-12-01            224.3\n",
              "373  2021-01-01            223.9\n",
              "374  2021-02-01            227.7"
            ]
          },
          "metadata": {
            "tags": []
          },
          "execution_count": 16
        }
      ]
    },
    {
      "cell_type": "markdown",
      "metadata": {
        "id": "NYNnYnnpTR13"
      },
      "source": [
        "In order to Prophet to be able to use this dataset, we must change the column names to 'ds' (the datetime column) and 'y' (the value we are trying to predict."
      ]
    },
    {
      "cell_type": "code",
      "metadata": {
        "id": "HbGFLS8nyPm_"
      },
      "source": [
        "# Setting column names to required column names to be able to work with Prophet\n",
        "df.columns = ['ds', 'y']"
      ],
      "execution_count": 17,
      "outputs": []
    },
    {
      "cell_type": "code",
      "metadata": {
        "id": "E7eBMgIyyTLO"
      },
      "source": [
        "# Setting 'ds' column as a datetime object\n",
        "df['ds'] = pd.to_datetime(df['ds'], format='%Y-%m-%d')"
      ],
      "execution_count": 18,
      "outputs": []
    },
    {
      "cell_type": "code",
      "metadata": {
        "colab": {
          "base_uri": "https://localhost:8080/"
        },
        "id": "fepZfQg3yca7",
        "outputId": "77149ca4-800c-42b8-f323-e0be6e404409"
      },
      "source": [
        "df.info()"
      ],
      "execution_count": 19,
      "outputs": [
        {
          "output_type": "stream",
          "text": [
            "<class 'pandas.core.frame.DataFrame'>\n",
            "RangeIndex: 375 entries, 0 to 374\n",
            "Data columns (total 2 columns):\n",
            " #   Column  Non-Null Count  Dtype         \n",
            "---  ------  --------------  -----         \n",
            " 0   ds      375 non-null    datetime64[ns]\n",
            " 1   y       375 non-null    float64       \n",
            "dtypes: datetime64[ns](1), float64(1)\n",
            "memory usage: 6.0 KB\n"
          ],
          "name": "stdout"
        }
      ]
    },
    {
      "cell_type": "code",
      "metadata": {
        "colab": {
          "base_uri": "https://localhost:8080/",
          "height": 195
        },
        "id": "uhnwaCCF2UfH",
        "outputId": "1f639780-dcbf-4dc6-a277-ea7859db0490"
      },
      "source": [
        "df.head()"
      ],
      "execution_count": 20,
      "outputs": [
        {
          "output_type": "execute_result",
          "data": {
            "text/html": [
              "<div>\n",
              "<style scoped>\n",
              "    .dataframe tbody tr th:only-of-type {\n",
              "        vertical-align: middle;\n",
              "    }\n",
              "\n",
              "    .dataframe tbody tr th {\n",
              "        vertical-align: top;\n",
              "    }\n",
              "\n",
              "    .dataframe thead th {\n",
              "        text-align: right;\n",
              "    }\n",
              "</style>\n",
              "<table border=\"1\" class=\"dataframe\">\n",
              "  <thead>\n",
              "    <tr style=\"text-align: right;\">\n",
              "      <th></th>\n",
              "      <th>ds</th>\n",
              "      <th>y</th>\n",
              "    </tr>\n",
              "  </thead>\n",
              "  <tbody>\n",
              "    <tr>\n",
              "      <th>0</th>\n",
              "      <td>1989-12-01</td>\n",
              "      <td>100.0</td>\n",
              "    </tr>\n",
              "    <tr>\n",
              "      <th>1</th>\n",
              "      <td>1990-01-01</td>\n",
              "      <td>101.0</td>\n",
              "    </tr>\n",
              "    <tr>\n",
              "      <th>2</th>\n",
              "      <td>1990-02-01</td>\n",
              "      <td>104.5</td>\n",
              "    </tr>\n",
              "    <tr>\n",
              "      <th>3</th>\n",
              "      <td>1990-03-01</td>\n",
              "      <td>106.9</td>\n",
              "    </tr>\n",
              "    <tr>\n",
              "      <th>4</th>\n",
              "      <td>1990-04-01</td>\n",
              "      <td>106.5</td>\n",
              "    </tr>\n",
              "  </tbody>\n",
              "</table>\n",
              "</div>"
            ],
            "text/plain": [
              "          ds      y\n",
              "0 1989-12-01  100.0\n",
              "1 1990-01-01  101.0\n",
              "2 1990-02-01  104.5\n",
              "3 1990-03-01  106.9\n",
              "4 1990-04-01  106.5"
            ]
          },
          "metadata": {
            "tags": []
          },
          "execution_count": 20
        }
      ]
    },
    {
      "cell_type": "code",
      "metadata": {
        "colab": {
          "base_uri": "https://localhost:8080/",
          "height": 334
        },
        "id": "5FzoA92eWjOc",
        "outputId": "0554c585-f8fa-4d03-85e6-2c3b7288f713"
      },
      "source": [
        "ax = df.plot(x='ds', y='y', figsize=(12,5))\n",
        "ax.set_xlabel('Time')\n",
        "ax.set_ylabel('Price Index');"
      ],
      "execution_count": 131,
      "outputs": [
        {
          "output_type": "display_data",
          "data": {
            "image/png": "[encoded data removed]",
            "text/plain": [
              "<Figure size 864x360 with 1 Axes>"
            ]
          },
          "metadata": {
            "tags": [],
            "needs_background": "light"
          }
        }
      ]
    },
    {
      "cell_type": "markdown",
      "metadata": {
        "id": "I3D0e7Cf627M"
      },
      "source": [
        "Notice the extreme drop starting from 2020 for the price index for scheduled airline passengers. Because the purpose of this notebook is to show the basics of Prophet to forecast and predict on a time series dataset, we will not be using any values from 2020-01-01 onwards. Instead, we will focus solely on the data within 1989-12-01 to 2019-12-01."
      ]
    },
    {
      "cell_type": "code",
      "metadata": {
        "colab": {
          "base_uri": "https://localhost:8080/"
        },
        "id": "yoF4V84ZRmX5",
        "outputId": "d7367ffa-deeb-4a14-f9a4-507607a27863"
      },
      "source": [
        "len(df)"
      ],
      "execution_count": 21,
      "outputs": [
        {
          "output_type": "execute_result",
          "data": {
            "text/plain": [
              "375"
            ]
          },
          "metadata": {
            "tags": []
          },
          "execution_count": 21
        }
      ]
    },
    {
      "cell_type": "code",
      "metadata": {
        "colab": {
          "base_uri": "https://localhost:8080/"
        },
        "id": "7PEQaVf-YYrm",
        "outputId": "d7724e3d-896a-4139-c672-e9d4d0a06942"
      },
      "source": [
        "# Figuring out which index we need to slice out to remove 2020 from the dataframe\n",
        "sum(df['ds'] > '2019-12-01')"
      ],
      "execution_count": 79,
      "outputs": [
        {
          "output_type": "execute_result",
          "data": {
            "text/plain": [
              "14"
            ]
          },
          "metadata": {
            "tags": []
          },
          "execution_count": 79
        }
      ]
    },
    {
      "cell_type": "code",
      "metadata": {
        "colab": {
          "base_uri": "https://localhost:8080/",
          "height": 462
        },
        "id": "9w4Yhh8kY2J2",
        "outputId": "a6b08991-7e88-4c53-a844-d23642606078"
      },
      "source": [
        "# Confirming that the final 14 rows all consist of dates from 2020 onwards\n",
        "df.iloc[-14:]"
      ],
      "execution_count": 87,
      "outputs": [
        {
          "output_type": "execute_result",
          "data": {
            "text/html": [
              "<div>\n",
              "<style scoped>\n",
              "    .dataframe tbody tr th:only-of-type {\n",
              "        vertical-align: middle;\n",
              "    }\n",
              "\n",
              "    .dataframe tbody tr th {\n",
              "        vertical-align: top;\n",
              "    }\n",
              "\n",
              "    .dataframe thead th {\n",
              "        text-align: right;\n",
              "    }\n",
              "</style>\n",
              "<table border=\"1\" class=\"dataframe\">\n",
              "  <thead>\n",
              "    <tr style=\"text-align: right;\">\n",
              "      <th></th>\n",
              "      <th>ds</th>\n",
              "      <th>y</th>\n",
              "    </tr>\n",
              "  </thead>\n",
              "  <tbody>\n",
              "    <tr>\n",
              "      <th>361</th>\n",
              "      <td>2020-01-01</td>\n",
              "      <td>294.6</td>\n",
              "    </tr>\n",
              "    <tr>\n",
              "      <th>362</th>\n",
              "      <td>2020-02-01</td>\n",
              "      <td>288.8</td>\n",
              "    </tr>\n",
              "    <tr>\n",
              "      <th>363</th>\n",
              "      <td>2020-03-01</td>\n",
              "      <td>265.7</td>\n",
              "    </tr>\n",
              "    <tr>\n",
              "      <th>364</th>\n",
              "      <td>2020-04-01</td>\n",
              "      <td>237.2</td>\n",
              "    </tr>\n",
              "    <tr>\n",
              "      <th>365</th>\n",
              "      <td>2020-05-01</td>\n",
              "      <td>258.4</td>\n",
              "    </tr>\n",
              "    <tr>\n",
              "      <th>366</th>\n",
              "      <td>2020-06-01</td>\n",
              "      <td>275.4</td>\n",
              "    </tr>\n",
              "    <tr>\n",
              "      <th>367</th>\n",
              "      <td>2020-07-01</td>\n",
              "      <td>254.2</td>\n",
              "    </tr>\n",
              "    <tr>\n",
              "      <th>368</th>\n",
              "      <td>2020-08-01</td>\n",
              "      <td>235.8</td>\n",
              "    </tr>\n",
              "    <tr>\n",
              "      <th>369</th>\n",
              "      <td>2020-09-01</td>\n",
              "      <td>236.4</td>\n",
              "    </tr>\n",
              "    <tr>\n",
              "      <th>370</th>\n",
              "      <td>2020-10-01</td>\n",
              "      <td>250.5</td>\n",
              "    </tr>\n",
              "    <tr>\n",
              "      <th>371</th>\n",
              "      <td>2020-11-01</td>\n",
              "      <td>230.5</td>\n",
              "    </tr>\n",
              "    <tr>\n",
              "      <th>372</th>\n",
              "      <td>2020-12-01</td>\n",
              "      <td>224.3</td>\n",
              "    </tr>\n",
              "    <tr>\n",
              "      <th>373</th>\n",
              "      <td>2021-01-01</td>\n",
              "      <td>223.9</td>\n",
              "    </tr>\n",
              "    <tr>\n",
              "      <th>374</th>\n",
              "      <td>2021-02-01</td>\n",
              "      <td>227.7</td>\n",
              "    </tr>\n",
              "  </tbody>\n",
              "</table>\n",
              "</div>"
            ],
            "text/plain": [
              "            ds      y\n",
              "361 2020-01-01  294.6\n",
              "362 2020-02-01  288.8\n",
              "363 2020-03-01  265.7\n",
              "364 2020-04-01  237.2\n",
              "365 2020-05-01  258.4\n",
              "366 2020-06-01  275.4\n",
              "367 2020-07-01  254.2\n",
              "368 2020-08-01  235.8\n",
              "369 2020-09-01  236.4\n",
              "370 2020-10-01  250.5\n",
              "371 2020-11-01  230.5\n",
              "372 2020-12-01  224.3\n",
              "373 2021-01-01  223.9\n",
              "374 2021-02-01  227.7"
            ]
          },
          "metadata": {
            "tags": []
          },
          "execution_count": 87
        }
      ]
    },
    {
      "cell_type": "code",
      "metadata": {
        "id": "Ns7EYqXNXbDV"
      },
      "source": [
        "# separating 2020 from the dataframe for the sake of simplicity for this blog\n",
        "air_df = df.iloc[:-14]\n",
        "\n",
        "# how many months we want the prophet model to predict\n",
        "nobs = 12"
      ],
      "execution_count": 114,
      "outputs": []
    },
    {
      "cell_type": "code",
      "metadata": {
        "id": "GXbxv6wiUcK2"
      },
      "source": [
        "# We want to predict 1 year, so we will make the test set contain the last year\n",
        "train = air_df.iloc[:-nobs]\n",
        "test = air_df.iloc[-nobs:]"
      ],
      "execution_count": 115,
      "outputs": []
    },
    {
      "cell_type": "code",
      "metadata": {
        "colab": {
          "base_uri": "https://localhost:8080/"
        },
        "id": "Fs6pxR-HUque",
        "outputId": "9e4629e3-9755-4968-d2db-a85e95d7260f"
      },
      "source": [
        "len(train), len(test)"
      ],
      "execution_count": 116,
      "outputs": [
        {
          "output_type": "execute_result",
          "data": {
            "text/plain": [
              "(349, 12)"
            ]
          },
          "metadata": {
            "tags": []
          },
          "execution_count": 116
        }
      ]
    },
    {
      "cell_type": "code",
      "metadata": {
        "colab": {
          "base_uri": "https://localhost:8080/"
        },
        "id": "HbYtSLpPUrtl",
        "outputId": "4bf50167-439e-4c96-f72f-449ab4241f4a"
      },
      "source": [
        "prophet = Prophet()\n",
        "prophet.add_country_holidays(country_name='US')\n",
        "prophet.fit(train)"
      ],
      "execution_count": 117,
      "outputs": [
        {
          "output_type": "stream",
          "text": [
            "INFO:fbprophet:Disabling weekly seasonality. Run prophet with weekly_seasonality=True to override this.\n",
            "INFO:fbprophet:Disabling daily seasonality. Run prophet with daily_seasonality=True to override this.\n"
          ],
          "name": "stderr"
        },
        {
          "output_type": "execute_result",
          "data": {
            "text/plain": [
              "<fbprophet.forecaster.Prophet at 0x7f126cf39210>"
            ]
          },
          "metadata": {
            "tags": []
          },
          "execution_count": 117
        }
      ]
    },
    {
      "cell_type": "code",
      "metadata": {
        "id": "YuIzRjKsVcgj"
      },
      "source": [
        "future = prophet.make_future_dataframe(periods=nobs, freq='MS', include_history=True)"
      ],
      "execution_count": 118,
      "outputs": []
    },
    {
      "cell_type": "code",
      "metadata": {
        "id": "_-nFDh4XVv0x"
      },
      "source": [
        "forecast = prophet.predict(future)"
      ],
      "execution_count": 119,
      "outputs": []
    },
    {
      "cell_type": "code",
      "metadata": {
        "colab": {
          "base_uri": "https://localhost:8080/",
          "height": 362
        },
        "id": "Arv__HvzV593",
        "outputId": "55f4f4fb-38b0-4967-d9c0-f6210c0f0c18"
      },
      "source": [
        "ax = forecast.plot(x='ds', y='yhat', label='Predictions', legend=True, figsize=(12,5))\n",
        "test.plot(x='ds', y='y', label='True Values', ax=ax, xlim=['2019-01-01', '2019-12-01'])"
      ],
      "execution_count": 120,
      "outputs": [
        {
          "output_type": "execute_result",
          "data": {
            "text/plain": [
              "<matplotlib.axes._subplots.AxesSubplot at 0x7f126d407490>"
            ]
          },
          "metadata": {
            "tags": []
          },
          "execution_count": 120
        },
        {
          "output_type": "display_data",
          "data": {
            "image/png": "[encoded data removed]",
            "text/plain": [
              "<Figure size 864x360 with 1 Axes>"
            ]
          },
          "metadata": {
            "tags": [],
            "needs_background": "light"
          }
        }
      ]
    },
    {
      "cell_type": "code",
      "metadata": {
        "id": "dxSiy2zeWJXv"
      },
      "source": [
        "from statsmodels.tools.eval_measures import rmse"
      ],
      "execution_count": 121,
      "outputs": []
    },
    {
      "cell_type": "code",
      "metadata": {
        "colab": {
          "base_uri": "https://localhost:8080/"
        },
        "id": "IcyGbAGyauZE",
        "outputId": "4e97223d-7d11-4de1-b21a-cdfcfdaf7ad4"
      },
      "source": [
        "y_pred = forecast.iloc[-12:]['yhat']\n",
        "y_pred"
      ],
      "execution_count": 122,
      "outputs": [
        {
          "output_type": "execute_result",
          "data": {
            "text/plain": [
              "349    276.496760\n",
              "350    276.291874\n",
              "351    277.628862\n",
              "352    277.824387\n",
              "353    275.152291\n",
              "354    278.256272\n",
              "355    278.556495\n",
              "356    277.702368\n",
              "357    270.398717\n",
              "358    274.837197\n",
              "359    275.362461\n",
              "360    273.121624\n",
              "Name: yhat, dtype: float64"
            ]
          },
          "metadata": {
            "tags": []
          },
          "execution_count": 122
        }
      ]
    },
    {
      "cell_type": "code",
      "metadata": {
        "colab": {
          "base_uri": "https://localhost:8080/"
        },
        "id": "BjTPZKUQa3NS",
        "outputId": "0abe9359-a297-47b4-aba6-dd3d1e3f8b6c"
      },
      "source": [
        "test['y']"
      ],
      "execution_count": 123,
      "outputs": [
        {
          "output_type": "execute_result",
          "data": {
            "text/plain": [
              "349    293.8\n",
              "350    283.3\n",
              "351    289.0\n",
              "352    295.2\n",
              "353    291.4\n",
              "354    298.1\n",
              "355    301.3\n",
              "356    290.8\n",
              "357    279.7\n",
              "358    293.3\n",
              "359    287.7\n",
              "360    307.9\n",
              "Name: y, dtype: float64"
            ]
          },
          "metadata": {
            "tags": []
          },
          "execution_count": 123
        }
      ]
    },
    {
      "cell_type": "code",
      "metadata": {
        "colab": {
          "base_uri": "https://localhost:8080/"
        },
        "id": "K4a9U3h9aJ7R",
        "outputId": "722ab6eb-32c1-4cdd-ed06-e313b923897d"
      },
      "source": [
        "rmse(y_pred, test['y'])"
      ],
      "execution_count": 125,
      "outputs": [
        {
          "output_type": "execute_result",
          "data": {
            "text/plain": [
              "18.063421849017068"
            ]
          },
          "metadata": {
            "tags": []
          },
          "execution_count": 125
        }
      ]
    },
    {
      "cell_type": "code",
      "metadata": {
        "colab": {
          "base_uri": "https://localhost:8080/"
        },
        "id": "SU3pSc5FbR5B",
        "outputId": "98225546-b06f-4ef3-9089-7de462ab0e38"
      },
      "source": [
        "air_df['y'].describe()"
      ],
      "execution_count": 128,
      "outputs": [
        {
          "output_type": "execute_result",
          "data": {
            "text/plain": [
              "count    361.000000\n",
              "mean     210.134072\n",
              "std       61.036450\n",
              "min      100.000000\n",
              "25%      151.800000\n",
              "50%      207.700000\n",
              "75%      271.700000\n",
              "max      307.900000\n",
              "Name: y, dtype: float64"
            ]
          },
          "metadata": {
            "tags": []
          },
          "execution_count": 128
        }
      ]
    },
    {
      "cell_type": "code",
      "metadata": {
        "id": "TZDyeRiebYlG"
      },
      "source": [
        ""
      ],
      "execution_count": null,
      "outputs": []
    }
  ]
}